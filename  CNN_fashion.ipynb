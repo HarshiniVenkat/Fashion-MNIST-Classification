{
  "nbformat": 4,
  "nbformat_minor": 0,
  "metadata": {
    "colab": {
      "name": "CNN-fashion.ipynb",
      "provenance": [],
      "collapsed_sections": [],
      "authorship_tag": "ABX9TyM3dUbzVgZc/JPnVjoGVB2R",
      "include_colab_link": true
    },
    "kernelspec": {
      "name": "python3",
      "display_name": "Python 3"
    }
  },
  "cells": [
    {
      "cell_type": "markdown",
      "metadata": {
        "id": "view-in-github",
        "colab_type": "text"
      },
      "source": [
        "<a href=\"https://colab.research.google.com/github/HarshiniVenkat/Machine-Deep-Learning/blob/master/CNN_fashion.ipynb\" target=\"_parent\"><img src=\"https://colab.research.google.com/assets/colab-badge.svg\" alt=\"Open In Colab\"/></a>"
      ]
    },
    {
      "cell_type": "code",
      "metadata": {
        "id": "qWKcHvLnvVHj",
        "colab_type": "code",
        "colab": {
          "base_uri": "https://localhost:8080/",
          "height": 170
        },
        "outputId": "42aef870-7838-4f86-f07e-24068cba1812"
      },
      "source": [
        "from keras.datasets import fashion_mnist\n",
        "(train_X,train_Y), (test_X,test_Y) = fashion_mnist.load_data()"
      ],
      "execution_count": 1,
      "outputs": [
        {
          "output_type": "stream",
          "text": [
            "Using TensorFlow backend.\n"
          ],
          "name": "stderr"
        },
        {
          "output_type": "stream",
          "text": [
            "Downloading data from http://fashion-mnist.s3-website.eu-central-1.amazonaws.com/train-labels-idx1-ubyte.gz\n",
            "32768/29515 [=================================] - 0s 4us/step\n",
            "Downloading data from http://fashion-mnist.s3-website.eu-central-1.amazonaws.com/train-images-idx3-ubyte.gz\n",
            "26427392/26421880 [==============================] - 2s 0us/step\n",
            "Downloading data from http://fashion-mnist.s3-website.eu-central-1.amazonaws.com/t10k-labels-idx1-ubyte.gz\n",
            "8192/5148 [===============================================] - 0s 0us/step\n",
            "Downloading data from http://fashion-mnist.s3-website.eu-central-1.amazonaws.com/t10k-images-idx3-ubyte.gz\n",
            "4423680/4422102 [==============================] - 1s 0us/step\n"
          ],
          "name": "stdout"
        }
      ]
    },
    {
      "cell_type": "code",
      "metadata": {
        "id": "WFM9zqAZwHiK",
        "colab_type": "code",
        "colab": {}
      },
      "source": [
        "import numpy as np\n",
        "import pandas as pd\n",
        "from keras.utils import to_categorical\n",
        "import matplotlib.pyplot as plt\n",
        "%matplotlib inline"
      ],
      "execution_count": 0,
      "outputs": []
    },
    {
      "cell_type": "code",
      "metadata": {
        "id": "eOuc3TvW_lN7",
        "colab_type": "code",
        "outputId": "0df9554c-eb16-4d37-d842-dcca4d9cadf0",
        "colab": {
          "base_uri": "https://localhost:8080/",
          "height": 51
        }
      },
      "source": [
        "print('Training data shape : ', train_X.shape, train_Y.shape)\n",
        "\n",
        "print('Testing data shape : ', test_X.shape, test_Y.shape)"
      ],
      "execution_count": 3,
      "outputs": [
        {
          "output_type": "stream",
          "text": [
            "Training data shape :  (60000, 28, 28) (60000,)\n",
            "Testing data shape :  (10000, 28, 28) (10000,)\n"
          ],
          "name": "stdout"
        }
      ]
    },
    {
      "cell_type": "markdown",
      "metadata": {
        "id": "Aoz7lvsiH4ak",
        "colab_type": "text"
      },
      "source": [
        "60,000 training samples each of 28 x 28 dimension"
      ]
    },
    {
      "cell_type": "code",
      "metadata": {
        "id": "cPqcyRRgBiVE",
        "colab_type": "code",
        "outputId": "68bdd934-6ede-4581-91b0-3926441b2f4a",
        "colab": {
          "base_uri": "https://localhost:8080/",
          "height": 34
        }
      },
      "source": [
        "classes = np.unique(train_Y)\n",
        "print(classes)"
      ],
      "execution_count": 4,
      "outputs": [
        {
          "output_type": "stream",
          "text": [
            "[0 1 2 3 4 5 6 7 8 9]\n"
          ],
          "name": "stdout"
        }
      ]
    },
    {
      "cell_type": "code",
      "metadata": {
        "id": "3sa4W6FTIibr",
        "colab_type": "code",
        "outputId": "dc1e9f15-c257-422e-e37b-39c806832da8",
        "colab": {
          "base_uri": "https://localhost:8080/",
          "height": 51
        }
      },
      "source": [
        "# Find the unique numbers from the train labels\n",
        "classes = np.unique(train_Y)\n",
        "nClasses = len(classes)\n",
        "print('Total number of outputs : ', nClasses)\n",
        "print('Output classes : ', classes)"
      ],
      "execution_count": 5,
      "outputs": [
        {
          "output_type": "stream",
          "text": [
            "Total number of outputs :  10\n",
            "Output classes :  [0 1 2 3 4 5 6 7 8 9]\n"
          ],
          "name": "stdout"
        }
      ]
    },
    {
      "cell_type": "code",
      "metadata": {
        "id": "zkuzBDmuJTgs",
        "colab_type": "code",
        "outputId": "57fb6013-5b66-4c06-ba0f-88a259036d5d",
        "colab": {
          "base_uri": "https://localhost:8080/",
          "height": 208
        }
      },
      "source": [
        "plt.figure(figsize=[5,5])\n",
        "\n",
        "# Display the first image in training data\n",
        "plt.subplot(121) #subplot(mnp) (rows,colums,pic position)\n",
        "plt.imshow(train_X[0,:,:], cmap='gray')\n",
        "plt.title(\"Ground Truth : {}\".format(train_Y[0]))\n",
        "\n",
        "# Display the first image in testing data\n",
        "plt.subplot(122)\n",
        "plt.imshow(test_X[0,:,:], cmap='gray')\n",
        "plt.title(\"Ground Truth : {}\".format(test_Y[0]))\n"
      ],
      "execution_count": 6,
      "outputs": [
        {
          "output_type": "execute_result",
          "data": {
            "text/plain": [
              "Text(0.5, 1.0, 'Ground Truth : 9')"
            ]
          },
          "metadata": {
            "tags": []
          },
          "execution_count": 6
        },
        {
          "output_type": "display_data",
          "data": {
            "image/png": "[encoded data removed]",
            "text/plain": [
              "<Figure size 360x360 with 2 Axes>"
            ]
          },
          "metadata": {
            "tags": [],
            "needs_background": "light"
          }
        }
      ]
    },
    {
      "cell_type": "code",
      "metadata": {
        "id": "WADc1C56TLvy",
        "colab_type": "code",
        "outputId": "416e73fb-c6b2-46ae-d519-9fd244c28c02",
        "colab": {
          "base_uri": "https://localhost:8080/",
          "height": 34
        }
      },
      "source": [
        "train_X = train_X.reshape(-1, 28,28, 1) # -1 represents the value 'n'\n",
        "test_X = test_X.reshape(-1, 28,28, 1)\n",
        "train_X.shape, test_X.shape"
      ],
      "execution_count": 7,
      "outputs": [
        {
          "output_type": "execute_result",
          "data": {
            "text/plain": [
              "((60000, 28, 28, 1), (10000, 28, 28, 1))"
            ]
          },
          "metadata": {
            "tags": []
          },
          "execution_count": 7
        }
      ]
    },
    {
      "cell_type": "code",
      "metadata": {
        "id": "NlSw9rmqVrou",
        "colab_type": "code",
        "outputId": "f6cee7d3-9352-4c56-8d23-236d238630ab",
        "colab": {
          "base_uri": "https://localhost:8080/",
          "height": 34
        }
      },
      "source": [
        "type(train_X)"
      ],
      "execution_count": 8,
      "outputs": [
        {
          "output_type": "execute_result",
          "data": {
            "text/plain": [
              "numpy.ndarray"
            ]
          },
          "metadata": {
            "tags": []
          },
          "execution_count": 8
        }
      ]
    },
    {
      "cell_type": "markdown",
      "metadata": {
        "id": "eQcbpsxs79Qz",
        "colab_type": "text"
      },
      "source": [
        "Data Preprocessing Begins:"
      ]
    },
    {
      "cell_type": "code",
      "metadata": {
        "id": "redUJsOSWeoj",
        "colab_type": "code",
        "colab": {}
      },
      "source": [
        "#convert the dtype from int8 to float32\n",
        "#rescale the value of pixels between 0-1\n",
        "train_X = train_X.astype('float32')\n",
        "test_X = test_X.astype('float32')\n",
        "train_X = train_X / 255.\n",
        "test_X = test_X / 255."
      ],
      "execution_count": 0,
      "outputs": []
    },
    {
      "cell_type": "code",
      "metadata": {
        "id": "v_-gFfFJqlBd",
        "colab_type": "code",
        "outputId": "a56bcd22-ffd8-42dc-8f1f-61174f86a246",
        "colab": {
          "base_uri": "https://localhost:8080/",
          "height": 51
        }
      },
      "source": [
        "#In one-hot encoding, you convert the categorical data into a vector of numbers so that the ML algorithm can understand it better\n",
        "\n",
        "# Change the labels from categorical to one-hot encoding\n",
        "train_Y_one_hot = to_categorical(train_Y)\n",
        "test_Y_one_hot = to_categorical(test_Y)\n",
        "\n",
        "# Display the change for category label using one-hot encoding\n",
        "print('Original label:', train_Y[0])\n",
        "print('After conversion to one-hot:', train_Y_one_hot[0])"
      ],
      "execution_count": 10,
      "outputs": [
        {
          "output_type": "stream",
          "text": [
            "Original label: 9\n",
            "After conversion to one-hot: [0. 0. 0. 0. 0. 0. 0. 0. 0. 1.]\n"
          ],
          "name": "stdout"
        }
      ]
    },
    {
      "cell_type": "code",
      "metadata": {
        "id": "VVILgGcWuc_Y",
        "colab_type": "code",
        "colab": {}
      },
      "source": [
        "from sklearn.model_selection import train_test_split\n",
        "train_X,valid_X,train_label,valid_label = train_test_split(train_X, train_Y_one_hot, test_size=0.2, random_state=13)\n",
        "#test_size=0.2 is 20% allocation for testing\n",
        "#random_state=13 for changing the train and test values for every iteration"
      ],
      "execution_count": 0,
      "outputs": []
    },
    {
      "cell_type": "code",
      "metadata": {
        "id": "Ef7L-XoM8nb2",
        "colab_type": "code",
        "outputId": "8082ee6e-3569-41bc-e57c-ce708e4f4f55",
        "colab": {
          "base_uri": "https://localhost:8080/",
          "height": 34
        }
      },
      "source": [
        "train_X.shape,valid_X.shape,train_label.shape,valid_label.shape"
      ],
      "execution_count": 12,
      "outputs": [
        {
          "output_type": "execute_result",
          "data": {
            "text/plain": [
              "((48000, 28, 28, 1), (12000, 28, 28, 1), (48000, 10), (12000, 10))"
            ]
          },
          "metadata": {
            "tags": []
          },
          "execution_count": 12
        }
      ]
    },
    {
      "cell_type": "markdown",
      "metadata": {
        "id": "HJojXQ4r9hDz",
        "colab_type": "text"
      },
      "source": [
        "three convolutional layers:\n",
        "\n",
        "The first layer will have 32-3 x 3 filters,\n",
        "\n",
        "The second layer will have 64-3 x 3 filters and\n",
        "\n",
        "The third layer will have 128-3 x 3 filters.\n",
        "\n",
        " there are three max-pooling layers each of size 2 x 2.\n"
      ]
    },
    {
      "cell_type": "code",
      "metadata": {
        "id": "KwqMr4j29QlG",
        "colab_type": "code",
        "colab": {}
      },
      "source": [
        "import keras\n",
        "from keras.models import Sequential,Input,Model\n",
        "from keras.layers import Dense, Dropout, Flatten\n",
        "from keras.layers import Conv2D, MaxPooling2D\n",
        "from keras.layers.normalization import BatchNormalization\n",
        "from keras.layers.advanced_activations import LeakyReLU"
      ],
      "execution_count": 0,
      "outputs": []
    },
    {
      "cell_type": "code",
      "metadata": {
        "id": "FVLX6ORx94iO",
        "colab_type": "code",
        "colab": {}
      },
      "source": [
        "batch_size = 64\n",
        "epochs = 20\n",
        "num_classes = 10"
      ],
      "execution_count": 0,
      "outputs": []
    },
    {
      "cell_type": "code",
      "metadata": {
        "id": "aQS76WOz9_Bx",
        "colab_type": "code",
        "colab": {}
      },
      "source": [
        "fashion_model = Sequential() #adding a sequential model\n",
        "fashion_model.add(Conv2D(32, kernel_size=(3, 3),activation='linear',input_shape=(28,28,1),padding='same')) #padding--> so that the o/p volume matches the i/p module\n",
        "#'linear' activation for regression and 'softmax' for classification\n",
        "fashion_model.add(LeakyReLU(alpha=0.1)) #f(x)=a*x\n",
        "fashion_model.add(MaxPooling2D((2, 2),padding='same')) #MaxPooling to reduce the image size\n",
        "\n",
        "fashion_model.add(Conv2D(64, (3, 3), activation='linear',padding='same'))\n",
        "fashion_model.add(LeakyReLU(alpha=0.1))\n",
        "fashion_model.add(MaxPooling2D(pool_size=(2, 2),padding='same'))\n",
        "\n",
        "fashion_model.add(Conv2D(128, (3, 3), activation='linear',padding='same'))\n",
        "fashion_model.add(LeakyReLU(alpha=0.1))                  \n",
        "fashion_model.add(MaxPooling2D(pool_size=(2, 2),padding='same'))\n",
        "\n",
        "fashion_model.add(Flatten()) #convert to a single Matrix to the last layer\n",
        "\n",
        "fashion_model.add(Dense(128, activation='linear')) #last before layer\n",
        "fashion_model.add(LeakyReLU(alpha=0.1))                  \n",
        "fashion_model.add(Dense(num_classes, activation='softmax'))"
      ],
      "execution_count": 0,
      "outputs": []
    },
    {
      "cell_type": "code",
      "metadata": {
        "id": "RV_1k4Eq-R-1",
        "colab_type": "code",
        "outputId": "6a078173-9c0d-4571-ec86-724acbf18da8",
        "colab": {
          "base_uri": "https://localhost:8080/",
          "height": 595
        }
      },
      "source": [
        "fashion_model.summary()"
      ],
      "execution_count": 16,
      "outputs": [
        {
          "output_type": "stream",
          "text": [
            "Model: \"sequential_1\"\n",
            "_________________________________________________________________\n",
            "Layer (type)                 Output Shape              Param #   \n",
            "=================================================================\n",
            "conv2d_1 (Conv2D)            (None, 28, 28, 32)        320       \n",
            "_________________________________________________________________\n",
            "leaky_re_lu_1 (LeakyReLU)    (None, 28, 28, 32)        0         \n",
            "_________________________________________________________________\n",
            "max_pooling2d_1 (MaxPooling2 (None, 14, 14, 32)        0         \n",
            "_________________________________________________________________\n",
            "conv2d_2 (Conv2D)            (None, 14, 14, 64)        18496     \n",
            "_________________________________________________________________\n",
            "leaky_re_lu_2 (LeakyReLU)    (None, 14, 14, 64)        0         \n",
            "_________________________________________________________________\n",
            "max_pooling2d_2 (MaxPooling2 (None, 7, 7, 64)          0         \n",
            "_________________________________________________________________\n",
            "conv2d_3 (Conv2D)            (None, 7, 7, 128)         73856     \n",
            "_________________________________________________________________\n",
            "leaky_re_lu_3 (LeakyReLU)    (None, 7, 7, 128)         0         \n",
            "_________________________________________________________________\n",
            "max_pooling2d_3 (MaxPooling2 (None, 4, 4, 128)         0         \n",
            "_________________________________________________________________\n",
            "flatten_1 (Flatten)          (None, 2048)              0         \n",
            "_________________________________________________________________\n",
            "dense_1 (Dense)              (None, 128)               262272    \n",
            "_________________________________________________________________\n",
            "leaky_re_lu_4 (LeakyReLU)    (None, 128)               0         \n",
            "_________________________________________________________________\n",
            "dense_2 (Dense)              (None, 10)                1290      \n",
            "=================================================================\n",
            "Total params: 356,234\n",
            "Trainable params: 356,234\n",
            "Non-trainable params: 0\n",
            "_________________________________________________________________\n"
          ],
          "name": "stdout"
        }
      ]
    },
    {
      "cell_type": "code",
      "metadata": {
        "id": "TqgxpZ7CMzaD",
        "colab_type": "code",
        "colab": {}
      },
      "source": [
        "fashion_model.compile(loss=keras.losses.categorical_crossentropy, optimizer=keras.optimizers.Adam(),metrics=['accuracy'])\n",
        "#cross entropy loss ==> predicts probability of how far the value is from the correct output. If the value is near 1, greater the error"
      ],
      "execution_count": 0,
      "outputs": []
    },
    {
      "cell_type": "code",
      "metadata": {
        "id": "bXsk2krS9TUI",
        "colab_type": "code",
        "outputId": "4423c486-fa7e-4a7e-a6ea-61853a3ed55f",
        "colab": {
          "base_uri": "https://localhost:8080/",
          "height": 714
        }
      },
      "source": [
        "fashion_train = fashion_model.fit(train_X, train_label, batch_size=batch_size,epochs=epochs,verbose=1,validation_data=(valid_X, valid_label))\n",
        "#verbose = 1 indicates the progress bar     \n",
        "#validation_data: Data on which to evaluate the loss and any model metrics at the end of each epoch."
      ],
      "execution_count": 18,
      "outputs": [
        {
          "output_type": "stream",
          "text": [
            "Train on 48000 samples, validate on 12000 samples\n",
            "Epoch 1/20\n",
            "48000/48000 [==============================] - 85s 2ms/step - loss: 0.4688 - accuracy: 0.8303 - val_loss: 0.3334 - val_accuracy: 0.8773\n",
            "Epoch 2/20\n",
            "48000/48000 [==============================] - 85s 2ms/step - loss: 0.2871 - accuracy: 0.8957 - val_loss: 0.2760 - val_accuracy: 0.8996\n",
            "Epoch 3/20\n",
            "48000/48000 [==============================] - 85s 2ms/step - loss: 0.2394 - accuracy: 0.9112 - val_loss: 0.2377 - val_accuracy: 0.9127\n",
            "Epoch 4/20\n",
            "48000/48000 [==============================] - 85s 2ms/step - loss: 0.2057 - accuracy: 0.9244 - val_loss: 0.2258 - val_accuracy: 0.9188\n",
            "Epoch 5/20\n",
            "48000/48000 [==============================] - 85s 2ms/step - loss: 0.1781 - accuracy: 0.9338 - val_loss: 0.2304 - val_accuracy: 0.9187\n",
            "Epoch 6/20\n",
            "48000/48000 [==============================] - 85s 2ms/step - loss: 0.1563 - accuracy: 0.9418 - val_loss: 0.2213 - val_accuracy: 0.9221\n",
            "Epoch 7/20\n",
            "48000/48000 [==============================] - 85s 2ms/step - loss: 0.1356 - accuracy: 0.9501 - val_loss: 0.2334 - val_accuracy: 0.9203\n",
            "Epoch 8/20\n",
            "48000/48000 [==============================] - 85s 2ms/step - loss: 0.1149 - accuracy: 0.9563 - val_loss: 0.2403 - val_accuracy: 0.9236\n",
            "Epoch 9/20\n",
            "48000/48000 [==============================] - 85s 2ms/step - loss: 0.0984 - accuracy: 0.9626 - val_loss: 0.2685 - val_accuracy: 0.9208\n",
            "Epoch 10/20\n",
            "48000/48000 [==============================] - 85s 2ms/step - loss: 0.0837 - accuracy: 0.9687 - val_loss: 0.2735 - val_accuracy: 0.9207\n",
            "Epoch 11/20\n",
            "48000/48000 [==============================] - 85s 2ms/step - loss: 0.0726 - accuracy: 0.9738 - val_loss: 0.2733 - val_accuracy: 0.9214\n",
            "Epoch 12/20\n",
            "48000/48000 [==============================] - 85s 2ms/step - loss: 0.0622 - accuracy: 0.9763 - val_loss: 0.3260 - val_accuracy: 0.9172\n",
            "Epoch 13/20\n",
            "48000/48000 [==============================] - 84s 2ms/step - loss: 0.0518 - accuracy: 0.9808 - val_loss: 0.3600 - val_accuracy: 0.9202\n",
            "Epoch 14/20\n",
            "48000/48000 [==============================] - 84s 2ms/step - loss: 0.0488 - accuracy: 0.9817 - val_loss: 0.3467 - val_accuracy: 0.9197\n",
            "Epoch 15/20\n",
            "48000/48000 [==============================] - 84s 2ms/step - loss: 0.0422 - accuracy: 0.9838 - val_loss: 0.3581 - val_accuracy: 0.9214\n",
            "Epoch 16/20\n",
            "48000/48000 [==============================] - 84s 2ms/step - loss: 0.0359 - accuracy: 0.9864 - val_loss: 0.4029 - val_accuracy: 0.9214\n",
            "Epoch 17/20\n",
            "48000/48000 [==============================] - 84s 2ms/step - loss: 0.0336 - accuracy: 0.9877 - val_loss: 0.3873 - val_accuracy: 0.9181\n",
            "Epoch 18/20\n",
            "48000/48000 [==============================] - 84s 2ms/step - loss: 0.0349 - accuracy: 0.9874 - val_loss: 0.4506 - val_accuracy: 0.9227\n",
            "Epoch 19/20\n",
            "48000/48000 [==============================] - 85s 2ms/step - loss: 0.0323 - accuracy: 0.9884 - val_loss: 0.4225 - val_accuracy: 0.9227\n",
            "Epoch 20/20\n",
            "48000/48000 [==============================] - 85s 2ms/step - loss: 0.0291 - accuracy: 0.9894 - val_loss: 0.4136 - val_accuracy: 0.9242\n"
          ],
          "name": "stdout"
        }
      ]
    },
    {
      "cell_type": "code",
      "metadata": {
        "id": "fYCvPk3h_IIc",
        "colab_type": "code",
        "colab": {}
      },
      "source": [
        "fashion_model.save(\"fashion_model_nodropout.h5py\")"
      ],
      "execution_count": 0,
      "outputs": []
    },
    {
      "cell_type": "code",
      "metadata": {
        "id": "yt0M69UtzRnN",
        "colab_type": "code",
        "colab": {}
      },
      "source": [
        "from keras.models import load_model\n",
        "fashion_train = load_model('fashion_model_nodropout.h5py')\n",
        "test_eval = fashion_model.evaluate(test_X, test_Y_one_hot, verbose=0)\n",
        "#evaluate(test, target, verbose)"
      ],
      "execution_count": 0,
      "outputs": []
    },
    {
      "cell_type": "code",
      "metadata": {
        "id": "gm6cE6O6zrQE",
        "colab_type": "code",
        "outputId": "0765b1e5-38e0-4ca1-bc76-d64d8f31c600",
        "colab": {
          "base_uri": "https://localhost:8080/",
          "height": 51
        }
      },
      "source": [
        "print('Test loss:', test_eval[0])\n",
        "print('Test accuracy:', test_eval[1])"
      ],
      "execution_count": 21,
      "outputs": [
        {
          "output_type": "stream",
          "text": [
            "Test loss: 0.444869379586447\n",
            "Test accuracy: 0.9205999970436096\n"
          ],
          "name": "stdout"
        }
      ]
    },
    {
      "cell_type": "code",
      "metadata": {
        "id": "3u58_3KPz80K",
        "colab_type": "code",
        "colab": {}
      },
      "source": [
        "accuracy = fashion_train.history['acc']\n",
        "val_accuracy = fashion_train.history['val_acc']\n",
        "loss = fashion_train.history['loss']\n",
        "val_loss = fashion_train.history['val_loss']\n",
        "epochs = range(len(accuracy))\n",
        "plt.plot(epochs, accuracy, 'bo', label='Training accuracy')\n",
        "plt.plot(epochs, val_accuracy, 'b', label='Validation accuracy')\n",
        "plt.title('Training and validation accuracy')\n",
        "plt.legend()\n",
        "plt.figure()\n",
        "plt.plot(epochs, loss, 'bo', label='Training loss')\n",
        "plt.plot(epochs, val_loss, 'b', label='Validation loss')\n",
        "plt.title('Training and validation loss')\n",
        "plt.legend()\n",
        "plt.show()"
      ],
      "execution_count": 0,
      "outputs": []
    },
    {
      "cell_type": "code",
      "metadata": {
        "id": "i5GPqlqv0HTa",
        "colab_type": "code",
        "colab": {}
      },
      "source": [
        "#Adding DropOut to the layer\n",
        "\n",
        "batch_size = 64\n",
        "epochs = 20\n",
        "num_classes = 10\n",
        "\n",
        "fashion_model = Sequential()\n",
        "fashion_model.add(Conv2D(32, kernel_size=(3, 3),activation='linear',padding='same',input_shape=(28,28,1)))\n",
        "fashion_model.add(LeakyReLU(alpha=0.1))\n",
        "fashion_model.add(MaxPooling2D((2, 2),padding='same'))\n",
        "fashion_model.add(Dropout(0.25)) #fraction of the i/p units to drop\n",
        "\n",
        "fashion_model.add(Conv2D(64, (3, 3), activation='linear',padding='same'))\n",
        "fashion_model.add(LeakyReLU(alpha=0.1))\n",
        "fashion_model.add(MaxPooling2D(pool_size=(2, 2),padding='same'))\n",
        "fashion_model.add(Dropout(0.25))\n",
        "\n",
        "fashion_model.add(Conv2D(128, (3, 3), activation='linear',padding='same'))\n",
        "fashion_model.add(LeakyReLU(alpha=0.1))                  \n",
        "fashion_model.add(MaxPooling2D(pool_size=(2, 2),padding='same'))\n",
        "fashion_model.add(Dropout(0.4))\n",
        "\n",
        "fashion_model.add(Flatten())\n",
        "\n",
        "fashion_model.add(Dense(128, activation='linear'))\n",
        "fashion_model.add(LeakyReLU(alpha=0.1))           \n",
        "fashion_model.add(Dropout(0.3))\n",
        "\n",
        "fashion_model.add(Dense(num_classes, activation='softmax'))"
      ],
      "execution_count": 0,
      "outputs": []
    },
    {
      "cell_type": "code",
      "metadata": {
        "id": "5PWmjye6160l",
        "colab_type": "code",
        "colab": {
          "base_uri": "https://localhost:8080/",
          "height": 731
        },
        "outputId": "4065fc67-6947-4df9-9904-b3d0da81f130"
      },
      "source": [
        "fashion_model.summary()"
      ],
      "execution_count": 24,
      "outputs": [
        {
          "output_type": "stream",
          "text": [
            "Model: \"sequential_2\"\n",
            "_________________________________________________________________\n",
            "Layer (type)                 Output Shape              Param #   \n",
            "=================================================================\n",
            "conv2d_4 (Conv2D)            (None, 28, 28, 32)        320       \n",
            "_________________________________________________________________\n",
            "leaky_re_lu_5 (LeakyReLU)    (None, 28, 28, 32)        0         \n",
            "_________________________________________________________________\n",
            "max_pooling2d_4 (MaxPooling2 (None, 14, 14, 32)        0         \n",
            "_________________________________________________________________\n",
            "dropout_1 (Dropout)          (None, 14, 14, 32)        0         \n",
            "_________________________________________________________________\n",
            "conv2d_5 (Conv2D)            (None, 14, 14, 64)        18496     \n",
            "_________________________________________________________________\n",
            "leaky_re_lu_6 (LeakyReLU)    (None, 14, 14, 64)        0         \n",
            "_________________________________________________________________\n",
            "max_pooling2d_5 (MaxPooling2 (None, 7, 7, 64)          0         \n",
            "_________________________________________________________________\n",
            "dropout_2 (Dropout)          (None, 7, 7, 64)          0         \n",
            "_________________________________________________________________\n",
            "conv2d_6 (Conv2D)            (None, 7, 7, 128)         73856     \n",
            "_________________________________________________________________\n",
            "leaky_re_lu_7 (LeakyReLU)    (None, 7, 7, 128)         0         \n",
            "_________________________________________________________________\n",
            "max_pooling2d_6 (MaxPooling2 (None, 4, 4, 128)         0         \n",
            "_________________________________________________________________\n",
            "dropout_3 (Dropout)          (None, 4, 4, 128)         0         \n",
            "_________________________________________________________________\n",
            "flatten_2 (Flatten)          (None, 2048)              0         \n",
            "_________________________________________________________________\n",
            "dense_3 (Dense)              (None, 128)               262272    \n",
            "_________________________________________________________________\n",
            "leaky_re_lu_8 (LeakyReLU)    (None, 128)               0         \n",
            "_________________________________________________________________\n",
            "dropout_4 (Dropout)          (None, 128)               0         \n",
            "_________________________________________________________________\n",
            "dense_4 (Dense)              (None, 10)                1290      \n",
            "=================================================================\n",
            "Total params: 356,234\n",
            "Trainable params: 356,234\n",
            "Non-trainable params: 0\n",
            "_________________________________________________________________\n"
          ],
          "name": "stdout"
        }
      ]
    },
    {
      "cell_type": "code",
      "metadata": {
        "id": "uoci7Me3FkBU",
        "colab_type": "code",
        "outputId": "d2f6bbee-afb1-4b3c-fb71-fc925acb378b",
        "colab": {
          "base_uri": "https://localhost:8080/",
          "height": 714
        }
      },
      "source": [
        "fashion_model.compile(loss=keras.losses.categorical_crossentropy, optimizer=keras.optimizers.Adam(),metrics=['accuracy'])\n",
        "\n",
        "fashion_train_dropout = fashion_model.fit(train_X, train_label, batch_size=batch_size,epochs=epochs,verbose=1,validation_data=(valid_X, valid_label))"
      ],
      "execution_count": 29,
      "outputs": [
        {
          "output_type": "stream",
          "text": [
            "Train on 48000 samples, validate on 12000 samples\n",
            "Epoch 1/20\n",
            "48000/48000 [==============================] - 95s 2ms/step - loss: 0.1674 - accuracy: 0.9357 - val_loss: 0.2108 - val_accuracy: 0.9297\n",
            "Epoch 2/20\n",
            "48000/48000 [==============================] - 94s 2ms/step - loss: 0.1653 - accuracy: 0.9368 - val_loss: 0.2130 - val_accuracy: 0.9317\n",
            "Epoch 3/20\n",
            "48000/48000 [==============================] - 94s 2ms/step - loss: 0.1655 - accuracy: 0.9361 - val_loss: 0.2191 - val_accuracy: 0.9288\n",
            "Epoch 4/20\n",
            "48000/48000 [==============================] - 94s 2ms/step - loss: 0.1647 - accuracy: 0.9372 - val_loss: 0.2207 - val_accuracy: 0.9312\n",
            "Epoch 5/20\n",
            "48000/48000 [==============================] - 96s 2ms/step - loss: 0.1668 - accuracy: 0.9372 - val_loss: 0.2149 - val_accuracy: 0.9282\n",
            "Epoch 6/20\n",
            "48000/48000 [==============================] - 95s 2ms/step - loss: 0.1645 - accuracy: 0.9382 - val_loss: 0.2138 - val_accuracy: 0.9283\n",
            "Epoch 7/20\n",
            "48000/48000 [==============================] - 95s 2ms/step - loss: 0.1612 - accuracy: 0.9387 - val_loss: 0.2170 - val_accuracy: 0.9323\n",
            "Epoch 8/20\n",
            "48000/48000 [==============================] - 97s 2ms/step - loss: 0.1631 - accuracy: 0.9379 - val_loss: 0.2023 - val_accuracy: 0.9317\n",
            "Epoch 9/20\n",
            "48000/48000 [==============================] - 95s 2ms/step - loss: 0.1606 - accuracy: 0.9385 - val_loss: 0.2125 - val_accuracy: 0.9303\n",
            "Epoch 10/20\n",
            "48000/48000 [==============================] - 95s 2ms/step - loss: 0.1578 - accuracy: 0.9393 - val_loss: 0.2290 - val_accuracy: 0.9256\n",
            "Epoch 11/20\n",
            "48000/48000 [==============================] - 96s 2ms/step - loss: 0.1563 - accuracy: 0.9405 - val_loss: 0.2091 - val_accuracy: 0.9307\n",
            "Epoch 12/20\n",
            "48000/48000 [==============================] - 96s 2ms/step - loss: 0.1605 - accuracy: 0.9389 - val_loss: 0.2046 - val_accuracy: 0.9298\n",
            "Epoch 13/20\n",
            "48000/48000 [==============================] - 95s 2ms/step - loss: 0.1580 - accuracy: 0.9406 - val_loss: 0.2196 - val_accuracy: 0.9288\n",
            "Epoch 14/20\n",
            "48000/48000 [==============================] - 95s 2ms/step - loss: 0.1600 - accuracy: 0.9394 - val_loss: 0.2048 - val_accuracy: 0.9294\n",
            "Epoch 15/20\n",
            "48000/48000 [==============================] - 95s 2ms/step - loss: 0.1614 - accuracy: 0.9376 - val_loss: 0.2132 - val_accuracy: 0.9314\n",
            "Epoch 16/20\n",
            "48000/48000 [==============================] - 95s 2ms/step - loss: 0.1595 - accuracy: 0.9387 - val_loss: 0.2108 - val_accuracy: 0.9333\n",
            "Epoch 17/20\n",
            "48000/48000 [==============================] - 95s 2ms/step - loss: 0.1557 - accuracy: 0.9417 - val_loss: 0.2152 - val_accuracy: 0.9285\n",
            "Epoch 18/20\n",
            "48000/48000 [==============================] - 95s 2ms/step - loss: 0.1561 - accuracy: 0.9416 - val_loss: 0.2164 - val_accuracy: 0.9284\n",
            "Epoch 19/20\n",
            "48000/48000 [==============================] - 95s 2ms/step - loss: 0.1568 - accuracy: 0.9401 - val_loss: 0.2160 - val_accuracy: 0.9307\n",
            "Epoch 20/20\n",
            "48000/48000 [==============================] - 95s 2ms/step - loss: 0.1507 - accuracy: 0.9429 - val_loss: 0.2061 - val_accuracy: 0.9342\n"
          ],
          "name": "stdout"
        }
      ]
    },
    {
      "cell_type": "code",
      "metadata": {
        "id": "YQKdrCdXGCaK",
        "colab_type": "code",
        "colab": {}
      },
      "source": [
        "fashion_model.save(\"fashion_model_dropout.h5py\")"
      ],
      "execution_count": 0,
      "outputs": []
    },
    {
      "cell_type": "code",
      "metadata": {
        "id": "z1W02W41NI4A",
        "colab_type": "code",
        "colab": {
          "base_uri": "https://localhost:8080/",
          "height": 34
        },
        "outputId": "4718bb58-c5c1-4aea-8625-81588e75fa41"
      },
      "source": [
        "from keras.models import load_model\n",
        "fashion_model_dropout = load_model('fashion_model_dropout.h5py')\n",
        "test_eval = fashion_model.evaluate(test_X, test_Y_one_hot, verbose=1)"
      ],
      "execution_count": 31,
      "outputs": [
        {
          "output_type": "stream",
          "text": [
            "10000/10000 [==============================] - 6s 585us/step\n"
          ],
          "name": "stdout"
        }
      ]
    },
    {
      "cell_type": "code",
      "metadata": {
        "id": "r0W_5-n_NSEV",
        "colab_type": "code",
        "colab": {
          "base_uri": "https://localhost:8080/",
          "height": 51
        },
        "outputId": "702af3ee-6fd4-4822-b8fd-067006eaa91e"
      },
      "source": [
        "print('Test loss:', test_eval[0])\n",
        "print('Test accuracy:', test_eval[1])"
      ],
      "execution_count": 32,
      "outputs": [
        {
          "output_type": "stream",
          "text": [
            "Test loss: 0.21960550896152853\n",
            "Test accuracy: 0.9261000156402588\n"
          ],
          "name": "stdout"
        }
      ]
    },
    {
      "cell_type": "code",
      "metadata": {
        "id": "FTlOuNNvNXY5",
        "colab_type": "code",
        "colab": {}
      },
      "source": [
        "accuracy = fashion_train_dropout.history['acc']\n",
        "val_accuracy = fashion_train_dropout.history['val_acc']\n",
        "loss = fashion_train_dropout.history['loss']\n",
        "val_loss = fashion_train_dropout.history['val_loss']\n",
        "epochs = range(len(accuracy))\n",
        "plt.plot(epochs, accuracy, 'bo', label='Training accuracy')\n",
        "plt.plot(epochs, val_accuracy, 'b', label='Validation accuracy')\n",
        "plt.title('Training and validation accuracy')\n",
        "plt.legend()\n",
        "plt.figure()\n",
        "plt.plot(epochs, loss, 'bo', label='Training loss')\n",
        "plt.plot(epochs, val_loss, 'b', label='Validation loss')\n",
        "plt.title('Training and validation loss')\n",
        "plt.legend()\n",
        "plt.show()"
      ],
      "execution_count": 0,
      "outputs": []
    },
    {
      "cell_type": "code",
      "metadata": {
        "id": "pIZUq1moNuoX",
        "colab_type": "code",
        "colab": {}
      },
      "source": [
        "#Prediction Part\n",
        "predicted_classes = fashion_model.predict(test_X)"
      ],
      "execution_count": 0,
      "outputs": []
    },
    {
      "cell_type": "code",
      "metadata": {
        "id": "HdC8X2XDOeiE",
        "colab_type": "code",
        "colab": {}
      },
      "source": [
        "predicted_classes = np.argmax(np.round(predicted_classes),axis=1)\n",
        "#np.argmax(): to select the index number which has a higher value in a row.\n",
        "# one test image to be 0 1 0 0 0 0 0 0 0 0, the output for this should be a class label 1"
      ],
      "execution_count": 0,
      "outputs": []
    },
    {
      "cell_type": "code",
      "metadata": {
        "id": "WTJGBtbYPihF",
        "colab_type": "code",
        "colab": {
          "base_uri": "https://localhost:8080/",
          "height": 34
        },
        "outputId": "a4861f3c-00e6-42b7-e3c9-afb37f5152bb"
      },
      "source": [
        "predicted_classes.shape, test_Y.shape"
      ],
      "execution_count": 36,
      "outputs": [
        {
          "output_type": "execute_result",
          "data": {
            "text/plain": [
              "((10000,), (10000,))"
            ]
          },
          "metadata": {
            "tags": []
          },
          "execution_count": 36
        }
      ]
    },
    {
      "cell_type": "code",
      "metadata": {
        "id": "cPglC8C3PmIR",
        "colab_type": "code",
        "colab": {
          "base_uri": "https://localhost:8080/",
          "height": 34
        },
        "outputId": "5e45ee19-e70a-4bf9-aaa1-f654cdd00dec"
      },
      "source": [
        "correct = np.where(predicted_classes==test_Y)[0] #np.where()[0] ==> list of elements which meet the condition in the array\n",
        "print (\"Found %d correct labels\" %len(correct)) "
      ],
      "execution_count": 37,
      "outputs": [
        {
          "output_type": "stream",
          "text": [
            "Found 9242 correct labels\n"
          ],
          "name": "stdout"
        }
      ]
    },
    {
      "cell_type": "code",
      "metadata": {
        "id": "jwKSewiPXdO0",
        "colab_type": "code",
        "colab": {
          "base_uri": "https://localhost:8080/",
          "height": 297
        },
        "outputId": "178dfbe8-3616-4c50-99a0-58c744dcbe39"
      },
      "source": [
        "for i, correct in enumerate(correct[:9]):\n",
        "    plt.subplot(3,3,i+1)\n",
        "    plt.imshow(test_X[correct].reshape(28,28), cmap='gray', interpolation='none')\n",
        "    plt.title(\"Predicted {}, Class {}\".format(predicted_classes[correct], test_Y[correct]))\n",
        "    plt.tight_layout()"
      ],
      "execution_count": 38,
      "outputs": [
        {
          "output_type": "display_data",
          "data": {
            "image/png": "[encoded data removed]",
            "text/plain": [
              "<Figure size 432x288 with 9 Axes>"
            ]
          },
          "metadata": {
            "tags": [],
            "needs_background": "light"
          }
        }
      ]
    },
    {
      "cell_type": "code",
      "metadata": {
        "id": "IfoMR9VvaA5J",
        "colab_type": "code",
        "colab": {
          "base_uri": "https://localhost:8080/",
          "height": 314
        },
        "outputId": "e963f3c8-f948-4c9b-94b7-cf4c0d125596"
      },
      "source": [
        "incorrect = np.where(predicted_classes!=test_Y)[0]\n",
        "print (\"Found %d incorrect labels\" %len(incorrect))\n",
        "for i, incorrect in enumerate(incorrect[:9]):\n",
        "    plt.subplot(3,3,i+1)\n",
        "    plt.imshow(test_X[incorrect].reshape(28,28), cmap='gray', interpolation='none')\n",
        "    plt.title(\"Predicted {}, Class {}\".format(predicted_classes[incorrect], test_Y[incorrect]))\n",
        "    plt.tight_layout()"
      ],
      "execution_count": 39,
      "outputs": [
        {
          "output_type": "stream",
          "text": [
            "Found 758 incorrect labels\n"
          ],
          "name": "stdout"
        },
        {
          "output_type": "display_data",
          "data": {
            "image/png": "[encoded data removed]",
            "text/plain": [
              "<Figure size 432x288 with 9 Axes>"
            ]
          },
          "metadata": {
            "tags": [],
            "needs_background": "light"
          }
        }
      ]
    },
    {
      "cell_type": "code",
      "metadata": {
        "id": "T4-r3lQAaHAl",
        "colab_type": "code",
        "colab": {
          "base_uri": "https://localhost:8080/",
          "height": 306
        },
        "outputId": "56f5a893-ed31-4207-e4a9-9ea1245a1a90"
      },
      "source": [
        "from sklearn.metrics import classification_report\n",
        "target_names = [\"Class {}\".format(i) for i in range(num_classes)]\n",
        "print(classification_report(test_Y, predicted_classes, target_names=target_names))"
      ],
      "execution_count": 40,
      "outputs": [
        {
          "output_type": "stream",
          "text": [
            "              precision    recall  f1-score   support\n",
            "\n",
            "     Class 0       0.83      0.89      0.86      1000\n",
            "     Class 1       0.99      0.99      0.99      1000\n",
            "     Class 2       0.89      0.90      0.89      1000\n",
            "     Class 3       0.92      0.93      0.93      1000\n",
            "     Class 4       0.91      0.86      0.88      1000\n",
            "     Class 5       0.99      0.97      0.98      1000\n",
            "     Class 6       0.81      0.78      0.79      1000\n",
            "     Class 7       0.95      0.98      0.96      1000\n",
            "     Class 8       0.99      0.99      0.99      1000\n",
            "     Class 9       0.97      0.97      0.97      1000\n",
            "\n",
            "    accuracy                           0.92     10000\n",
            "   macro avg       0.92      0.92      0.92     10000\n",
            "weighted avg       0.92      0.92      0.92     10000\n",
            "\n"
          ],
          "name": "stdout"
        }
      ]
    },
    {
      "cell_type": "code",
      "metadata": {
        "id": "XHDaegepchKc",
        "colab_type": "code",
        "colab": {}
      },
      "source": [
        ""
      ],
      "execution_count": 0,
      "outputs": []
    }
  ]
}
